{
 "cells": [
  {
   "cell_type": "code",
   "execution_count": 1,
   "id": "initial_id",
   "metadata": {
    "collapsed": true,
    "ExecuteTime": {
     "end_time": "2023-11-24T08:37:14.249311934Z",
     "start_time": "2023-11-24T08:37:12.065946527Z"
    }
   },
   "outputs": [],
   "source": [
    "import os\n",
    "import numpy as np\n",
    "import pandas as pd\n",
    "from glob import glob\n",
    "import cv2\n",
    "import torch\n",
    "from torch.utils import data\n",
    "from PIL import Image\n",
    "import torchvision\n",
    "from torchvision import transforms\n",
    "import matplotlib.pyplot as plt"
   ]
  },
  {
   "cell_type": "code",
   "execution_count": 2,
   "outputs": [
    {
     "name": "stdout",
     "output_type": "stream",
     "text": [
      "Number of Images: 5000\n"
     ]
    }
   ],
   "source": [
    "txt = np.genfromtxt('russianTrafficSigns/test_labels.txt',delimiter =';', dtype= None,encoding=None)\n",
    "\n",
    "dic ={}\n",
    "for i in range (0,len(txt)):\n",
    "    img_name = txt[i][0]\n",
    "    target = [txt[i][1],txt[i][2],txt[i][3],txt[i][4],txt[i][5]]\n",
    "    clas = txt[i][-1]\n",
    "    if(img_name in dic):\n",
    "        dic[img_name].append(target)\n",
    "    else:\n",
    "        dic[img_name] = [target]\n",
    "print(\"Number of Images: \" + str(len(dic)))"
   ],
   "metadata": {
    "collapsed": false,
    "ExecuteTime": {
     "end_time": "2023-11-24T08:37:14.406343023Z",
     "start_time": "2023-11-24T08:37:14.332134600Z"
    }
   },
   "id": "fcdd6d3f5caf6dc5"
  },
  {
   "cell_type": "code",
   "execution_count": 3,
   "outputs": [
    {
     "name": "stdout",
     "output_type": "stream",
     "text": [
      "{3: 301, 8: 887, 71: 206, 32: 263, 26: 555, 23: 386, 13: 801, 7: 5958, 6: 400, 72: 32, 129: 30, 101: 18, 15: 249, 25: 148, 1: 2000, 20: 162, 85: 44, 40: 97, 63: 114, 9: 13, 56: 63, 4: 946, 94: 67, 82: 233, 77: 45, 109: 58, 60: 95, 33: 152, 61: 26, 55: 253, 43: 1887, 21: 20, 41: 227, 2: 507, 52: 135, 102: 53, 12: 149, 47: 247, 22: 167, 10: 233, 136: 12, 69: 198, 99: 27, 38: 67, 64: 29, 35: 200, 122: 87, 49: 121, 70: 8, 17: 284, 81: 146, 73: 2, 116: 69, 5: 206, 31: 13, 65: 24, 16: 47, 42: 25, 92: 72, 117: 64, 143: 18, 54: 142, 46: 188, 58: 32, 66: 40, 11: 8, 80: 46, 67: 16, 126: 9, 120: 54, 27: 25, 28: 34, 39: 63, 100: 18, 24: 11, 37: 15, 51: 15, 105: 1, 45: 40, 68: 146, 93: 9, 148: 9, 30: 37, 57: 37, 75: 12, 53: 11, 62: 60, 19: 15, 118: 17, 29: 41, 90: 10, 128: 28, 89: 25, 127: 12, 97: 9, 87: 57, 121: 18, 34: 8, 124: 10, 48: 21, 125: 6, 88: 22, 154: 3, 142: 7, 119: 7, 86: 65, 14: 61, 112: 8, 131: 27, 110: 24, 145: 8, 95: 16, 103: 9, 78: 10, 44: 21, 50: 45, 140: 4, 130: 16, 115: 23, 83: 12, 84: 11, 107: 10, 18: 1, 138: 6, 104: 13, 151: 15, 150: 3, 36: 12, 113: 6, 91: 19, 108: 22, 79: 9, 146: 9, 111: 3, 147: 2, 153: 3, 133: 5, 149: 1, 114: 3}\n"
     ]
    },
    {
     "data": {
      "text/plain": "<Figure size 640x480 with 1 Axes>",
      "image/png": "[encoded data removed]"
     },
     "metadata": {},
     "output_type": "display_data"
    }
   ],
   "source": [
    "#Data Distribution\n",
    "\n",
    "cls_lst = {}\n",
    "\n",
    "for i in dic:\n",
    "    for j in dic[i][:]:\n",
    "        #print(len(dic[i]))\n",
    "        for k in range(len(dic[i])):\n",
    "            clss = dic[i][:][k][-1]\n",
    "            if clss in cls_lst:\n",
    "                cls_lst[clss] += 1\n",
    "            else:\n",
    "                cls_lst[clss] = 1\n",
    "                \n",
    "print(cls_lst)\n",
    "\n",
    "xx = []\n",
    "yy = []\n",
    "for i in cls_lst:\n",
    "    xx.append(str(i))\n",
    "    yy.append(cls_lst[i])\n",
    "\n",
    "x_pos = [i for i, _ in enumerate(xx)]\n",
    "\n",
    "plt.bar(x_pos, yy, color='green')\n",
    "plt.xlabel(\"Class Number\")\n",
    "plt.ylabel(\"Number of Examples\")\n",
    "plt.title(\"GTSDB\")\n",
    "plt.xticks(x_pos, xx)\n",
    "\n",
    "plt.show()"
   ],
   "metadata": {
    "collapsed": false,
    "ExecuteTime": {
     "end_time": "2023-11-24T08:37:14.857948200Z",
     "start_time": "2023-11-24T08:37:14.417962157Z"
    }
   },
   "id": "1c3c732b29760cbb"
  },
  {
   "cell_type": "code",
   "execution_count": 8,
   "outputs": [
    {
     "name": "stdout",
     "output_type": "stream",
     "text": [
      "5000\n"
     ]
    },
    {
     "data": {
      "text/plain": "5000"
     },
     "execution_count": 8,
     "metadata": {},
     "output_type": "execute_result"
    }
   ],
   "source": [
    "# #Copy only files that are annotated in the gt.txt to imagesf\n",
    "# import shutil\n",
    "# \n",
    "# pt = glob('/home/vorkov/Workspace/Python/TrafficSignDetection/experiments/russianTrafficSigns/images/*.jpg')\n",
    "# \n",
    "# len(pt)\n",
    "# for i in range(len(dic)):\n",
    "#     ofile = r'/home/vorkov/Workspace/Python/TrafficSignDetection/experiments/russianTrafficSigns/images/{}'.format(list(dic)[i])\n",
    "#     target = r'/home/vorkov/Workspace/Python/TrafficSignDetection/experiments/russianTrafficSigns/imagesf_test/{}'.format(list(dic)[i])\n",
    "#     shutil.copyfile(ofile, target)\n",
    "# \n",
    "# print(len(glob('/home/vorkov/Workspace/Python/TrafficSignDetection/experiments/russianTrafficSigns/imagesf_test/*.jpg')))\n",
    "# len(dic)"
   ],
   "metadata": {
    "collapsed": false,
    "ExecuteTime": {
     "end_time": "2023-11-24T09:01:32.365701279Z",
     "start_time": "2023-11-24T09:01:29.631188932Z"
    }
   },
   "id": "53d367ef3b21d5a7"
  },
  {
   "cell_type": "code",
   "execution_count": 9,
   "outputs": [],
   "source": [
    "class myDataset(torch.utils.data.Dataset):\n",
    "    def __init__(self, root, transforms=None):\n",
    "        self.root = root\n",
    "        self.transforms = transforms\n",
    "        self.imgs = list(sorted(os.listdir(os.path.join(root, \"imagesf_test\"))))\n",
    " \n",
    "    def __getitem__(self, idx):\n",
    "        img_path = os.path.join(self.root, \"imagesf_test\", self.imgs[idx])\n",
    "        img = Image.open(img_path).convert(\"RGB\")        \n",
    "        objects = dic[self.imgs[idx]]\n",
    "        boxes = []\n",
    "        labels = []\n",
    "        for obj in objects:\n",
    "            name = obj[-1]\n",
    "            labels.append(np.int(name))\n",
    "            xmin = np.float(obj[0])\n",
    "            ymin = np.float(obj[1])\n",
    "            xmax = np.float(obj[2])\n",
    "            ymax = np.float(obj[3])\n",
    "            boxes.append([xmin, ymin, xmax, ymax])\n",
    "\n",
    "        boxes = torch.as_tensor(boxes, dtype=torch.float32)\n",
    "        labels = torch.as_tensor(labels, dtype=torch.int64)        \n",
    " \n",
    "        image_id = torch.tensor([idx])\n",
    "        area = (boxes[:, 3] - boxes[:, 1]) * (boxes[:, 2] - boxes[:, 0])\n",
    "        # suppose all instances are not crowd\n",
    "        iscrowd = torch.zeros((len(objects),), dtype=torch.int64)\n",
    " \n",
    "        target = {}\n",
    "        target[\"boxes\"] = boxes\n",
    "        target[\"labels\"] = labels\n",
    "        target[\"image_id\"] = image_id\n",
    "        target[\"area\"] = area\n",
    "        target[\"iscrowd\"] = iscrowd\n",
    " \n",
    "        if self.transforms is not None:\n",
    "            img, target = self.transforms(img, target)\n",
    " \n",
    "        return img, target\n",
    " \n",
    "    def __len__(self):\n",
    "        return len(self.imgs)"
   ],
   "metadata": {
    "collapsed": false,
    "ExecuteTime": {
     "end_time": "2023-11-24T09:01:44.075202455Z",
     "start_time": "2023-11-24T09:01:44.031199450Z"
    }
   },
   "id": "8f61fdf223a6fe5f"
  },
  {
   "cell_type": "code",
   "execution_count": 10,
   "outputs": [],
   "source": [
    "import utilss\n",
    "import transforms as T\n",
    "\n",
    "def get_transform(train):\n",
    "    transforms = []\n",
    "    transforms.append(T.ToTensor())\n",
    "    if train:\n",
    "        transforms.append(T.RandomHorizontalFlip(0.5))\n",
    " \n",
    "    return T.Compose(transforms)"
   ],
   "metadata": {
    "collapsed": false,
    "ExecuteTime": {
     "end_time": "2023-11-24T09:01:45.244912331Z",
     "start_time": "2023-11-24T09:01:45.226734591Z"
    }
   },
   "id": "d891e86d74133512"
  },
  {
   "cell_type": "code",
   "execution_count": 11,
   "outputs": [
    {
     "name": "stdout",
     "output_type": "stream",
     "text": [
      "Model loaded\n"
     ]
    }
   ],
   "source": [
    "from engine import train_one_epoch, evaluate\n",
    "import utilss\n",
    "import torch.nn as nn\n",
    "os.environ['TORCH_HOME'] = '/home/vorkov/Workspace/Python/TrafficSignDetection/experiments/'\n",
    "root = r'/home/vorkov/Workspace/Python/TrafficSignDetection/experiments/russianTrafficSigns'\n",
    "\n",
    "num_classes = 156\n",
    "dataset_test = myDataset(root, get_transform(train=False))\n",
    "indices = torch.randperm(len(dataset_test)).tolist()\n",
    "dataset_test = torch.utils.data.Subset(dataset_test, indices[-100:])\n",
    "\n",
    "data_loader_test = torch.utils.data.DataLoader(\n",
    "    dataset_test, batch_size=4, shuffle=False, # num_workers=4,\n",
    "    collate_fn=utilss.collate_fn)\n",
    "\n",
    "model = torch.load(r'/home/vorkov/Workspace/Python/TrafficSignDetection/experiments/train4ep_lr0.001_mom0.9.pkl')\n",
    "device = torch.device('cuda')\n",
    "model.to(device)\n",
    "\n",
    "print(\"Model loaded\")"
   ],
   "metadata": {
    "collapsed": false,
    "ExecuteTime": {
     "end_time": "2023-11-24T09:01:46.006950795Z",
     "start_time": "2023-11-24T09:01:45.881961446Z"
    }
   },
   "id": "f2af6a43aed9938f"
  },
  {
   "cell_type": "code",
   "execution_count": 12,
   "outputs": [
    {
     "name": "stdout",
     "output_type": "stream",
     "text": [
      "creating index...\n",
      "index created!\n",
      "Test:  [ 0/25]  eta: 0:00:23  model_time: 0.8928 (0.8928)  evaluator_time: 0.0035 (0.0035)  time: 0.9531  data: 0.0377  max mem: 2252\n",
      "Test:  [24/25]  eta: 0:00:00  model_time: 0.2621 (0.2876)  evaluator_time: 0.0041 (0.0040)  time: 0.2985  data: 0.0273  max mem: 2273\n",
      "Test: Total time: 0:00:08 (0.3261 s / it)\n",
      "Averaged stats: model_time: 0.2621 (0.2876)  evaluator_time: 0.0041 (0.0040)\n",
      "Accumulating evaluation results...\n",
      "DONE (t=0.11s).\n",
      "IoU metric: bbox\n",
      " Average Precision  (AP) @[ IoU=0.50:0.95 | area=   all | maxDets=100 ] = 0.516\n",
      " Average Precision  (AP) @[ IoU=0.50      | area=   all | maxDets=100 ] = 0.773\n",
      " Average Precision  (AP) @[ IoU=0.75      | area=   all | maxDets=100 ] = 0.568\n",
      " Average Precision  (AP) @[ IoU=0.50:0.95 | area= small | maxDets=100 ] = 0.476\n",
      " Average Precision  (AP) @[ IoU=0.50:0.95 | area=medium | maxDets=100 ] = 0.624\n",
      " Average Precision  (AP) @[ IoU=0.50:0.95 | area= large | maxDets=100 ] = 0.900\n",
      " Average Recall     (AR) @[ IoU=0.50:0.95 | area=   all | maxDets=  1 ] = 0.558\n",
      " Average Recall     (AR) @[ IoU=0.50:0.95 | area=   all | maxDets= 10 ] = 0.588\n",
      " Average Recall     (AR) @[ IoU=0.50:0.95 | area=   all | maxDets=100 ] = 0.588\n",
      " Average Recall     (AR) @[ IoU=0.50:0.95 | area= small | maxDets=100 ] = 0.551\n",
      " Average Recall     (AR) @[ IoU=0.50:0.95 | area=medium | maxDets=100 ] = 0.664\n",
      " Average Recall     (AR) @[ IoU=0.50:0.95 | area= large | maxDets=100 ] = 0.900\n"
     ]
    }
   ],
   "source": [
    "from engine import evaluate\n",
    "\n",
    "_, metric_logger = evaluate(model, data_loader_test, device=device)"
   ],
   "metadata": {
    "collapsed": false,
    "ExecuteTime": {
     "end_time": "2023-11-24T09:02:32.955124032Z",
     "start_time": "2023-11-24T09:01:48.660857059Z"
    }
   },
   "id": "8b4bd5ea6ed68558"
  }
 ],
 "metadata": {
  "kernelspec": {
   "display_name": "Python 3",
   "language": "python",
   "name": "python3"
  },
  "language_info": {
   "codemirror_mode": {
    "name": "ipython",
    "version": 2
   },
   "file_extension": ".py",
   "mimetype": "text/x-python",
   "name": "python",
   "nbconvert_exporter": "python",
   "pygments_lexer": "ipython2",
   "version": "2.7.6"
  }
 },
 "nbformat": 4,
 "nbformat_minor": 5
}
